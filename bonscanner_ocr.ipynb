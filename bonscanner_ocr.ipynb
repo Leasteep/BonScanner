{
  "nbformat": 4,
  "nbformat_minor": 0,
  "metadata": {
    "colab": {
      "name": "bonscanner_ocr.ipynb",
      "version": "0.3.2",
      "provenance": [],
      "collapsed_sections": [],
      "include_colab_link": true
    },
    "kernelspec": {
      "name": "python3",
      "display_name": "Python 3"
    },
    "accelerator": "GPU"
  },
  "cells": [
    {
      "cell_type": "markdown",
      "metadata": {
        "id": "view-in-github",
        "colab_type": "text"
      },
      "source": [
        "<a href=\"https://colab.research.google.com/github/Leasteep/BonScanner/blob/master/bonscanner_ocr.ipynb\" target=\"_parent\"><img src=\"https://colab.research.google.com/assets/colab-badge.svg\" alt=\"Open In Colab\"/></a>"
      ]
    },
    {
      "cell_type": "code",
      "metadata": {
        "id": "078JvTX6-xSg",
        "colab_type": "code",
        "colab": {}
      },
      "source": [
        "from keras.activations import relu, softmax\n",
        "from keras.layers import Conv2D, MaxPooling2D, Dense, Flatten, BatchNormalization, Dropout\n",
        "from keras.callbacks import ModelCheckpoint, CSVLogger\n",
        "from keras.optimizers import Adam\n",
        "from keras.models import Sequential\n",
        "import glob\n",
        "import os\n",
        "\n",
        "from keras.optimizers import Adam\n",
        "from keras.utils import np_utils\n",
        "import imageio\n",
        "import numpy as np\n",
        "from sklearn.model_selection import StratifiedKFold\n",
        "\n"
      ],
      "execution_count": 0,
      "outputs": []
    },
    {
      "cell_type": "code",
      "metadata": {
        "id": "M9bcUSdcnuZt",
        "colab_type": "code",
        "colab": {
          "base_uri": "https://localhost:8080/",
          "height": 34
        },
        "outputId": "eff70119-7125-4e48-d2a4-41dba336482a"
      },
      "source": [
        "from google.colab import files\n",
        "from google.colab import drive\n",
        "drive.mount('/content/drive')\n",
        "!tar -xf 'drive/My Drive/Colab Notebooks/data/EnglishFnt.tar'"
      ],
      "execution_count": 9,
      "outputs": [
        {
          "output_type": "stream",
          "text": [
            "^C\n"
          ],
          "name": "stdout"
        }
      ]
    },
    {
      "cell_type": "code",
      "metadata": {
        "id": "XUUhH1hM96eL",
        "colab_type": "code",
        "colab": {}
      },
      "source": [
        "images = []\n",
        "labels = []\n",
        "label_incrementor = 0\n",
        "for directoryname in glob.glob('English/Fnt/Sample*'):\n",
        "    for filename in glob.glob(os.path.join(directoryname, '*.png')):\n",
        "        img = imageio.imread(filename)\n",
        "        images.append(img)\n",
        "        labels.append(np_utils.to_categorical(label_incrementor, num_classes=64))\n",
        "    label_incrementor += 1\n",
        "images = np.array(images)\n",
        "images = np.expand_dims(images, 3)\n",
        "labels = np.array(labels)"
      ],
      "execution_count": 0,
      "outputs": []
    },
    {
      "cell_type": "code",
      "metadata": {
        "id": "q2I1aa6a-CQI",
        "colab_type": "code",
        "colab": {}
      },
      "source": [
        "dropout = 0.5\n",
        "\n",
        "cnn = Sequential()\n",
        "cnn.add(Conv2D(input_shape=(128, 128, 1),\n",
        "               filters=32,\n",
        "               kernel_size=(5, 5),\n",
        "               strides=(1, 1),\n",
        "               activation=relu,\n",
        "               padding='same'))\n",
        "cnn.add(BatchNormalization())\n",
        "cnn.add(MaxPooling2D())\n",
        "cnn.add(Conv2D(filters=64,\n",
        "               kernel_size=(5, 5),\n",
        "               strides=(1, 1),\n",
        "               activation=relu,\n",
        "               padding='same'))\n",
        "cnn.add(BatchNormalization())\n",
        "cnn.add(MaxPooling2D())\n",
        "cnn.add(Flatten())\n",
        "cnn.add(Dropout(dropout))\n",
        "cnn.add(Dense(units=128, activation=relu))\n",
        "cnn.add(Dropout(dropout))\n",
        "cnn.add(Dense(units=64, activation=softmax))"
      ],
      "execution_count": 0,
      "outputs": []
    },
    {
      "cell_type": "code",
      "metadata": {
        "id": "PPvbVxH1-CSm",
        "colab_type": "code",
        "colab": {
          "base_uri": "https://localhost:8080/",
          "height": 357
        },
        "outputId": "d19b3e69-0350-42fe-c874-01a0e9e03fc3"
      },
      "source": [
        "# fix random seed for reproducibility\n",
        "seed = 7\n",
        "np.random.seed(seed)\n",
        "\n",
        "optimizer = Adam(lr=0.1)\n",
        "callbacks = [ModelCheckpoint('drive/My Drive/Colab Notebooks/data/models/cnn_{epoch:02d}-{loss:.2f}.hdf5', \n",
        "                             monitor='loss', save_best_only=True),\n",
        "             CSVLogger('drive/My Drive/Colab Notebooks/data/cvscores/cvscore.log')]\n",
        "\n",
        "\n",
        "# define 10-fold cross validation test harness\n",
        "# StratifiedKFold expects array of shape (samples, ) to calculate indices\n",
        "kfold = StratifiedKFold(n_splits=10, shuffle=True, random_state=seed)\n",
        "cvscores = []\n",
        "i = 0 \n",
        "for train, test in kfold.split(images, np.zeros(labels.shape[0], )):\n",
        "    \n",
        "    cnn.compile(loss='categorical_crossentropy', optimizer='adam', metrics=['accuracy'])\n",
        "    cnn.fit(images[train], labels[train], epochs=60, batch_size=32, verbose=1, callbacks=callbacks)\n",
        "    cnn.save('cnn_fold%s.h5' % i)\n",
        "    \n",
        "    scores = cnn.evaluate(images[test], labels[test], verbose=1)\n",
        "    print(\"%s: %.2f%%\" % (cnn.metrics_names[1], scores[1] * 100))\n",
        "    cvscores.append(scores[1] * 100)\n",
        "    np.save(cvscores, 'cvscores')\n",
        "    i += 1"
      ],
      "execution_count": 0,
      "outputs": [
        {
          "output_type": "stream",
          "text": [
            "Epoch 1/60\n",
            "56692/56692 [==============================] - 113s 2ms/step - loss: 2.2610 - acc: 0.3789\n",
            "Epoch 2/60\n",
            "56692/56692 [==============================] - 111s 2ms/step - loss: 1.9509 - acc: 0.4431\n",
            "Epoch 3/60\n",
            "56692/56692 [==============================] - 111s 2ms/step - loss: 1.4690 - acc: 0.5603\n",
            "Epoch 4/60\n",
            "56692/56692 [==============================] - 111s 2ms/step - loss: 1.0189 - acc: 0.6780\n",
            "Epoch 5/60\n",
            "56692/56692 [==============================] - 111s 2ms/step - loss: 0.7916 - acc: 0.7437\n",
            "Epoch 6/60\n",
            "56692/56692 [==============================] - 111s 2ms/step - loss: 0.6767 - acc: 0.7762\n",
            "Epoch 7/60\n",
            "56692/56692 [==============================] - 111s 2ms/step - loss: 0.6004 - acc: 0.7971\n",
            "Epoch 8/60\n",
            "56692/56692 [==============================] - 111s 2ms/step - loss: 0.5493 - acc: 0.8109\n",
            "Epoch 9/60\n",
            "56692/56692 [==============================] - 111s 2ms/step - loss: 0.5046 - acc: 0.8234\n",
            "Epoch 10/60\n",
            "55360/56692 [============================>.] - ETA: 2s - loss: 0.4752 - acc: 0.8308"
          ],
          "name": "stdout"
        }
      ]
    }
  ]
}